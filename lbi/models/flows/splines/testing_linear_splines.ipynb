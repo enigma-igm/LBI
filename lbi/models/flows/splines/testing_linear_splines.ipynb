{
 "cells": [
  {
   "cell_type": "code",
   "execution_count": 1,
   "metadata": {},
   "outputs": [],
   "source": [
    "import torch \n",
    "import torch.nn.functional as F\n",
    "import jax.numpy as np\n",
    "import numpy as onp"
   ]
  },
  {
   "cell_type": "code",
   "execution_count": 2,
   "metadata": {},
   "outputs": [],
   "source": [
    "\n",
    "def searchsorted(bin_locations, inputs, eps=1e-6):\n",
    "    bin_locations[..., -1] += eps\n",
    "    return torch.sum(inputs[..., None] >= bin_locations, dim=-1) - 1\n",
    "\n",
    "\n",
    "def unconstrained_linear_spline(\n",
    "    inputs, unnormalized_pdf, inverse=False, tail_bound=1.0, tails=\"linear\"\n",
    "):\n",
    "    inside_interval_mask = (inputs >= -tail_bound) & (inputs <= tail_bound)\n",
    "    outside_interval_mask = ~inside_interval_mask\n",
    "\n",
    "    outputs = torch.zeros_like(inputs)\n",
    "    logabsdet = torch.zeros_like(inputs)\n",
    "\n",
    "    if tails == \"linear\":\n",
    "        outputs[outside_interval_mask] = inputs[outside_interval_mask]\n",
    "        logabsdet[outside_interval_mask] = 0\n",
    "    else:\n",
    "        raise RuntimeError(\"{} tails are not implemented.\".format(tails))\n",
    "\n",
    "    if torch.any(inside_interval_mask):\n",
    "        outputs[inside_interval_mask], logabsdet[inside_interval_mask] = linear_spline(\n",
    "            inputs=inputs[inside_interval_mask],\n",
    "            unnormalized_pdf=unnormalized_pdf[inside_interval_mask, :],\n",
    "            inverse=inverse,\n",
    "            left=-tail_bound,\n",
    "            right=tail_bound,\n",
    "            bottom=-tail_bound,\n",
    "            top=tail_bound,\n",
    "        )\n",
    "\n",
    "    return outputs, logabsdet\n",
    "\n",
    "\n",
    "\n",
    "\n",
    "def linear_spline(\n",
    "    inputs, unnormalized_pdf, inverse=False, left=0.0, right=1.0, bottom=0.0, top=1.0\n",
    "):\n",
    "    \"\"\"\n",
    "    Reference:\n",
    "    > Müller et al., Neural Importance Sampling, arXiv:1808.03856, 2018.\n",
    "    \"\"\"\n",
    "\n",
    "    if inverse:\n",
    "        inputs = (inputs - bottom) / (top - bottom)\n",
    "    else:\n",
    "        inputs = (inputs - left) / (right - left)\n",
    "\n",
    "    num_bins = unnormalized_pdf.size(-1)\n",
    "\n",
    "    # print(\"unnormalized_pdf:\", unnormalized_pdf.shape, unnormalized_pdf)\n",
    "    pdf = F.softmax(unnormalized_pdf, dim=-1)    \n",
    "\n",
    "\n",
    "    cdf = torch.cumsum(pdf, dim=-1)\n",
    "    cdf[..., -1] = 1.0\n",
    "    cdf = F.pad(cdf, pad=(1, 0), mode=\"constant\", value=0.0)\n",
    "\n",
    "    if inverse:\n",
    "        inv_bin_idx = searchsorted(cdf, inputs)\n",
    "\n",
    "        bin_boundaries = (\n",
    "            torch.linspace(0, 1, num_bins + 1)\n",
    "            .view([1] * inputs.dim() + [-1])\n",
    "            .expand(*inputs.shape, -1)\n",
    "        )\n",
    "\n",
    "        slopes = (cdf[..., 1:] - cdf[..., :-1]) / (\n",
    "            bin_boundaries[..., 1:] - bin_boundaries[..., :-1]\n",
    "        )\n",
    "        offsets = cdf[..., 1:] - slopes * bin_boundaries[..., 1:]\n",
    "\n",
    "        inv_bin_idx = inv_bin_idx.unsqueeze(-1)\n",
    "        input_slopes = slopes.gather(-1, inv_bin_idx)[..., 0]\n",
    "        input_offsets = offsets.gather(-1, inv_bin_idx)[..., 0]\n",
    "\n",
    "        outputs = (inputs - input_offsets) / input_slopes\n",
    "        outputs = torch.clamp(outputs, 0, 1)\n",
    "\n",
    "        logabsdet = -torch.log(input_slopes)\n",
    "    else:\n",
    "        bin_pos = inputs * num_bins\n",
    "\n",
    "        bin_idx = torch.floor(bin_pos).long()\n",
    "        bin_idx[bin_idx >= num_bins] = num_bins - 1\n",
    "\n",
    "        alpha = bin_pos - bin_idx.float()\n",
    "\n",
    "        input_pdfs = pdf.gather(-1, bin_idx[..., None])[..., 0]\n",
    "\n",
    "        outputs = cdf.gather(-1, bin_idx[..., None])[..., 0]\n",
    "        outputs += alpha * input_pdfs\n",
    "        outputs = torch.clamp(outputs, 0, 1)\n",
    "\n",
    "        bin_width = 1.0 / num_bins\n",
    "        logabsdet = torch.log(input_pdfs) - onp.log(bin_width)\n",
    "\n",
    "    if inverse:\n",
    "        outputs = outputs * (right - left) + left\n",
    "    else:\n",
    "        outputs = outputs * (top - bottom) + bottom\n",
    "\n",
    "    return outputs, logabsdet"
   ]
  },
  {
   "cell_type": "code",
   "execution_count": 3,
   "metadata": {},
   "outputs": [],
   "source": [
    "import lbi.models.flows.splines.linear as me"
   ]
  },
  {
   "cell_type": "code",
   "execution_count": 4,
   "metadata": {},
   "outputs": [
    {
     "name": "stderr",
     "output_type": "stream",
     "text": [
      "WARNING:absl:No GPU/TPU found, falling back to CPU. (Set TF_CPP_MIN_LOG_LEVEL=0 and rerun for more info.)\n"
     ]
    }
   ],
   "source": [
    "batch_size = 10\n",
    "data_dim = 3\n",
    "num_bins = 5\n",
    "\n",
    "inputs = torch.rand(size=(batch_size, data_dim))\n",
    "trans_params = torch.rand(size=(batch_size, num_bins * data_dim))\n",
    "\n",
    "torch_params = trans_params.view(batch_size, -1, num_bins)\n",
    "\n",
    "jax_params = trans_params.numpy().reshape(batch_size, num_bins, -1)\n",
    "jax_params = np.transpose(jax_params, (0, 2, 1))\n"
   ]
  },
  {
   "cell_type": "code",
   "execution_count": 5,
   "metadata": {},
   "outputs": [],
   "source": [
    "torch_outputs, torch_logabsdet = unconstrained_linear_spline(\n",
    "    inputs, torch_params, inverse=False, tail_bound=20.2,\n",
    ")"
   ]
  },
  {
   "cell_type": "code",
   "execution_count": 6,
   "metadata": {},
   "outputs": [],
   "source": [
    "torch_inputs, torch_logabsdet = unconstrained_linear_spline(\n",
    "    torch_outputs, torch_params, inverse=True, tail_bound=20.2,\n",
    ")"
   ]
  },
  {
   "cell_type": "code",
   "execution_count": 7,
   "metadata": {},
   "outputs": [],
   "source": [
    "jax_outputs, jax_logabsdet = me.unconstrained_linear_spline(\n",
    "    inputs.numpy(), jax_params, inverse=False, tail_bound=20.2,\n",
    ")"
   ]
  },
  {
   "cell_type": "code",
   "execution_count": 8,
   "metadata": {},
   "outputs": [],
   "source": [
    "jax_inputs, jax_logabsdet = me.unconstrained_linear_spline(\n",
    "    jax_outputs, jax_params, inverse=True, tail_bound=20.2,\n",
    ")"
   ]
  },
  {
   "cell_type": "code",
   "execution_count": 9,
   "metadata": {},
   "outputs": [
    {
     "data": {
      "text/plain": [
       "(DeviceArray(-0.18788618, dtype=float32),\n",
       " DeviceArray(3.1789145e-07, dtype=float32),\n",
       " DeviceArray(-5.0266584e-07, dtype=float32))"
      ]
     },
     "execution_count": 9,
     "metadata": {},
     "output_type": "execute_result"
    }
   ],
   "source": [
    "np.mean(torch_outputs.numpy() - jax_outputs), np.mean(torch_inputs.numpy() - jax_inputs), np.mean(inputs.numpy() - jax_inputs)"
   ]
  },
  {
   "cell_type": "code",
   "execution_count": null,
   "metadata": {},
   "outputs": [],
   "source": []
  }
 ],
 "metadata": {
  "interpreter": {
   "hash": "d2e8d65274f55ff29bc5bc401d6ed4d2395bc5c4486b6fab9d844ab2cebf411b"
  },
  "kernelspec": {
   "display_name": "Python 3.9.6 ('lbi')",
   "language": "python",
   "name": "python3"
  },
  "language_info": {
   "codemirror_mode": {
    "name": "ipython",
    "version": 3
   },
   "file_extension": ".py",
   "mimetype": "text/x-python",
   "name": "python",
   "nbconvert_exporter": "python",
   "pygments_lexer": "ipython3",
   "version": "3.9.6"
  },
  "orig_nbformat": 4
 },
 "nbformat": 4,
 "nbformat_minor": 2
}
